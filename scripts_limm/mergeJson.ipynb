{
 "cells": [
  {
   "cell_type": "code",
   "execution_count": null,
   "id": "2c2d4b18-99df-4871-a721-b8de373f7205",
   "metadata": {
    "is_executing": true
   },
   "outputs": [],
   "source": [
    "import json\n",
    "from tqdm import tqdm"
   ]
  },
  {
   "cell_type": "code",
   "execution_count": 5,
   "id": "65caa135-4036-4b44-981e-b93b806179b4",
   "metadata": {},
   "outputs": [],
   "source": [
    "json_id_text = \"/data/limiaomiao/project/data/datasets/MUGE/test_texts.jsonl\"\n",
    "json_id_img = \"/data/limiaomiao/project/data/datasets/MUGE/test_predictions.jsonl\"\n",
    "json_text_output = \"/data/limiaomiao/project/data/datasets/MUGE/test_submit.jsonl\""
   ]
  },
  {
   "cell_type": "code",
   "execution_count": 6,
   "id": "d246bd0c-0055-4507-9b4e-e35d4ff93be3",
   "metadata": {},
   "outputs": [
    {
     "name": "stderr",
     "output_type": "stream",
     "text": [
      "5004it [00:00, 76550.17it/s]\n",
      "5004it [00:00, 72272.01it/s]\n"
     ]
    }
   ],
   "source": [
    "text_ids = []\n",
    "text_contents = []\n",
    "text_imgs = []\n",
    "\n",
    "with open(json_id_text, \"r\") as fin:\n",
    "    for line in tqdm(fin):\n",
    "        obj = json.loads(line.strip())\n",
    "        text_ids.append(obj[\"text_id\"])\n",
    "        text_contents.append(obj[\"text\"])\n",
    "        # print(obj)\n",
    "        # print(text_ids, text_contents)\n",
    "        # break\n",
    "\n",
    "with open(json_id_img, \"r\") as fin:\n",
    "    for line in tqdm(fin):\n",
    "        obj = json.loads(line.strip())\n",
    "        text_imgs.append(obj[\"image_ids\"])\n",
    "        # print(obj)\n",
    "        # print(text_imgs)\n",
    "        # break\n",
    "\n",
    "with open(json_text_output, \"w\", encoding = 'utf8') as fout:\n",
    "    for text_id, text_content, text_img in zip(text_ids, text_contents, text_imgs):\n",
    "        fout.write(\"{}\\n\".format(json.dumps({\"query_id\": text_id, \"query_text\": text_content, \"item_ids\": text_img}, ensure_ascii=False)))"
   ]
  },
  {
   "cell_type": "code",
   "execution_count": null,
   "id": "c7ba7d8f-d293-48b7-b672-71708ff29c11",
   "metadata": {},
   "outputs": [],
   "source": []
  }
 ],
 "metadata": {
  "kernelspec": {
   "display_name": "Python 3 (ipykernel)",
   "language": "python",
   "name": "python3"
  },
  "language_info": {
   "codemirror_mode": {
    "name": "ipython",
    "version": 3
   },
   "file_extension": ".py",
   "mimetype": "text/x-python",
   "name": "python",
   "nbconvert_exporter": "python",
   "pygments_lexer": "ipython3",
   "version": "3.10.13"
  }
 },
 "nbformat": 4,
 "nbformat_minor": 5
}
